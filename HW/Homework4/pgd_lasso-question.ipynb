{
 "cells": [
  {
   "cell_type": "code",
   "execution_count": 14,
   "metadata": {},
   "outputs": [],
   "source": [
    "%matplotlib inline \n",
    "import numpy as np\n",
    "from matplotlib import pyplot as plt"
   ]
  },
  {
   "cell_type": "markdown",
   "metadata": {},
   "source": [
    "### Utility functions"
   ]
  },
  {
   "cell_type": "code",
   "execution_count": 15,
   "metadata": {},
   "outputs": [],
   "source": [
    "def obj(w):\n",
    "    ## calculates the obj functions\n",
    "    r = X*w-y;\n",
    "    return np.sum(np.multiply(r,r))/2 +  lamda * np.sum(np.abs(w))"
   ]
  },
  {
   "cell_type": "markdown",
   "metadata": {},
   "source": [
    "## Data"
   ]
  },
  {
   "cell_type": "code",
   "execution_count": 16,
   "metadata": {},
   "outputs": [],
   "source": [
    "np.random.seed(50)\n",
    "\n",
    "N = 100\n",
    "dim = 30\n",
    "lamda = 1/np.sqrt(N);\n",
    "\n",
    "w = np.zeros(dim)\n",
    "n_nonzero = 15\n",
    "w[np.random.choice(range(dim), n_nonzero, False)] = np.random.randn(n_nonzero)\n",
    "w = np.matrix(w.reshape(-1, 1))\n",
    "\n",
    "X = np.matrix(np.random.multivariate_normal([0.0]*dim, np.eye(dim), size = N))\n",
    "y = X*w"
   ]
  },
  {
   "cell_type": "markdown",
   "metadata": {},
   "source": [
    "Our objective function of interest is:\n",
    "$$\\frac{1}{2} \\| Xw - y \\|^2 + \\lambda |w|_1 $$\n",
    "\n",
    "In the cell above, the variables X, y, w and lamda corresponds to $X, y, w$ and $\\lambda$ in the equation above."
   ]
  },
  {
   "cell_type": "code",
   "execution_count": 17,
   "metadata": {},
   "outputs": [
    {
     "name": "stdout",
     "output_type": "stream",
     "text": [
      "Optimal Objective Function Value:  1.3043384900597284\n"
     ]
    }
   ],
   "source": [
    "opt = obj(w)\n",
    "print('Optimal Objective Function Value: ', opt)"
   ]
  },
  {
   "cell_type": "markdown",
   "metadata": {},
   "source": [
    "## Optimal Value using SKLearn"
   ]
  },
  {
   "cell_type": "code",
   "execution_count": 18,
   "metadata": {},
   "outputs": [
    {
     "data": {
      "text/plain": [
       "Lasso(alpha=0.001, fit_intercept=False)"
      ]
     },
     "execution_count": 18,
     "metadata": {},
     "output_type": "execute_result"
    }
   ],
   "source": [
    "from sklearn import linear_model\n",
    "clf = linear_model.Lasso(alpha=lamda / N, fit_intercept = False)\n",
    "clf.fit(X, y)"
   ]
  },
  {
   "cell_type": "code",
   "execution_count": 19,
   "metadata": {},
   "outputs": [
    {
     "name": "stdout",
     "output_type": "stream",
     "text": [
      "SKLearn obj val:  1.303641803846212\n"
     ]
    }
   ],
   "source": [
    "print('SKLearn obj val: ', obj(clf.coef_.reshape(-1, 1)) )"
   ]
  },
  {
   "cell_type": "markdown",
   "metadata": {},
   "source": [
    "## Proximal Gradient"
   ]
  },
  {
   "cell_type": "code",
   "execution_count": 20,
   "metadata": {},
   "outputs": [],
   "source": [
    "max_iter = 100 # max number of iterations of proximal gradient method"
   ]
  },
  {
   "cell_type": "code",
   "execution_count": 21,
   "metadata": {},
   "outputs": [],
   "source": [
    "alpha_array = np.logspace(-5, -2, num = 10, base = 10.0) #range over which you search hyperparam"
   ]
  },
  {
   "cell_type": "code",
   "execution_count": 22,
   "metadata": {},
   "outputs": [],
   "source": [
    "def g_prox(x, step_size):\n",
    "    \"\"\"\n",
    "    L1 regularization\n",
    "    \"\"\"\n",
    "    return np.fmax(x - step_size * alpha, 0) - np.fmax(- x - step_size * alpha, 0)"
   ]
  },
  {
   "cell_type": "code",
   "execution_count": 23,
   "metadata": {},
   "outputs": [],
   "source": [
    "def f_prime(x, b, y):\n",
    "    return x.T @ (x @ b - y)"
   ]
  },
  {
   "cell_type": "code",
   "execution_count": 24,
   "metadata": {
    "scrolled": false
   },
   "outputs": [
    {
     "name": "stdout",
     "output_type": "stream",
     "text": [
      "Alpha:  1e-05\n",
      "iter= 0,\tobjective= 831.575313\n",
      "iter= 10,\tobjective= 807.827723\n",
      "iter= 20,\tobjective= 784.858060\n",
      "iter= 30,\tobjective= 762.639041\n",
      "iter= 40,\tobjective= 741.144378\n",
      "iter= 50,\tobjective= 720.348736\n",
      "iter= 60,\tobjective= 700.227700\n",
      "iter= 70,\tobjective= 680.757744\n",
      "iter= 80,\tobjective= 661.916192\n",
      "iter= 90,\tobjective= 643.681189\n",
      "Alpha:  2.1544346900318823e-05\n",
      "iter= 0,\tobjective= 831.575313\n",
      "iter= 10,\tobjective= 781.331858\n",
      "iter= 20,\tobjective= 734.561707\n",
      "iter= 30,\tobjective= 691.008037\n",
      "iter= 40,\tobjective= 650.433717\n",
      "iter= 50,\tobjective= 612.619760\n",
      "iter= 60,\tobjective= 577.363910\n",
      "iter= 70,\tobjective= 544.479326\n",
      "iter= 80,\tobjective= 513.793383\n",
      "iter= 90,\tobjective= 485.146564\n",
      "Alpha:  4.641588833612782e-05\n",
      "iter= 0,\tobjective= 831.575313\n",
      "iter= 10,\tobjective= 727.433455\n",
      "iter= 20,\tobjective= 638.133069\n",
      "iter= 30,\tobjective= 561.416201\n",
      "iter= 40,\tobjective= 495.380805\n",
      "iter= 50,\tobjective= 438.423409\n",
      "iter= 60,\tobjective= 389.191302\n",
      "iter= 70,\tobjective= 346.542337\n",
      "iter= 80,\tobjective= 309.510795\n",
      "iter= 90,\tobjective= 277.279950\n",
      "Alpha:  0.0001\n",
      "iter= 0,\tobjective= 831.575313\n",
      "iter= 10,\tobjective= 624.748521\n",
      "iter= 20,\tobjective= 475.808645\n",
      "iter= 30,\tobjective= 367.531386\n",
      "iter= 40,\tobjective= 287.993498\n",
      "iter= 50,\tobjective= 228.906114\n",
      "iter= 60,\tobjective= 184.481708\n",
      "iter= 70,\tobjective= 150.658630\n",
      "iter= 80,\tobjective= 124.570515\n",
      "iter= 90,\tobjective= 104.182049\n",
      "Alpha:  0.00021544346900318823\n",
      "iter= 0,\tobjective= 831.575313\n",
      "iter= 10,\tobjective= 454.378222\n",
      "iter= 20,\tobjective= 265.577994\n",
      "iter= 30,\tobjective= 165.989038\n",
      "iter= 40,\tobjective= 110.232907\n",
      "iter= 50,\tobjective= 77.004301\n",
      "iter= 60,\tobjective= 55.974355\n",
      "iter= 70,\tobjective= 41.937197\n",
      "iter= 80,\tobjective= 32.146807\n",
      "iter= 90,\tobjective= 25.079156\n",
      "Alpha:  0.00046415888336127773\n",
      "iter= 0,\tobjective= 831.575313\n",
      "iter= 10,\tobjective= 241.094828\n",
      "iter= 20,\tobjective= 95.958464\n",
      "iter= 30,\tobjective= 47.808779\n",
      "iter= 40,\tobjective= 27.010517\n",
      "iter= 50,\tobjective= 16.390989\n",
      "iter= 60,\tobjective= 10.457647\n",
      "iter= 70,\tobjective= 6.977412\n",
      "iter= 80,\tobjective= 4.876632\n",
      "iter= 90,\tobjective= 3.583209\n",
      "Alpha:  0.001\n",
      "iter= 0,\tobjective= 831.575313\n",
      "iter= 10,\tobjective= 81.019724\n",
      "iter= 20,\tobjective= 22.099363\n",
      "iter= 30,\tobjective= 8.286735\n",
      "iter= 40,\tobjective= 3.865040\n",
      "iter= 50,\tobjective= 2.299016\n",
      "iter= 60,\tobjective= 1.709656\n",
      "iter= 70,\tobjective= 1.476937\n",
      "iter= 80,\tobjective= 1.381248\n",
      "iter= 90,\tobjective= 1.340408\n",
      "Alpha:  0.002154434690031882\n",
      "iter= 0,\tobjective= 831.575313\n",
      "iter= 10,\tobjective= 17.158520\n",
      "iter= 20,\tobjective= 2.982339\n",
      "iter= 30,\tobjective= 1.538040\n",
      "iter= 40,\tobjective= 1.345306\n",
      "iter= 50,\tobjective= 1.313666\n",
      "iter= 60,\tobjective= 1.307106\n",
      "iter= 70,\tobjective= 1.305362\n",
      "iter= 80,\tobjective= 1.304776\n",
      "iter= 90,\tobjective= 1.304527\n",
      "Alpha:  0.004641588833612777\n",
      "iter= 0,\tobjective= 831.575313\n",
      "iter= 10,\tobjective= 2.203964\n",
      "iter= 20,\tobjective= 1.322278\n",
      "iter= 30,\tobjective= 1.305567\n",
      "iter= 40,\tobjective= 1.304452\n",
      "iter= 50,\tobjective= 1.304277\n",
      "iter= 60,\tobjective= 1.304275\n",
      "iter= 70,\tobjective= 1.304275\n",
      "iter= 80,\tobjective= 1.304275\n",
      "iter= 90,\tobjective= 1.304275\n",
      "Alpha:  0.01\n",
      "iter= 0,\tobjective= 831.575313\n",
      "iter= 10,\tobjective= 904.886576\n",
      "iter= 20,\tobjective= 13936.982306\n",
      "iter= 30,\tobjective= 278153.963288\n",
      "iter= 40,\tobjective= 5630707.199543\n",
      "iter= 50,\tobjective= 114069346.474656\n",
      "iter= 60,\tobjective= 2310992861.402610\n",
      "iter= 70,\tobjective= 46819976227.000832\n",
      "iter= 80,\tobjective= 948558929396.402710\n",
      "iter= 90,\tobjective= 19217529660282.031250\n"
     ]
    }
   ],
   "source": [
    "## Proximal Gadient \n",
    "\n",
    "obj_pg = {} #stores obj function value as a function of iteration for each alpha\n",
    "w_pg = {} #stores the final weight vector learned for each alpha\n",
    "\n",
    "tol = 0.01\n",
    "\n",
    "for alpha in alpha_array:\n",
    "    print('Alpha: ', alpha)\n",
    "    \n",
    "    w_pg[alpha] = np.matrix([0.0]*dim).T\n",
    "    obj_pg[alpha] = []\n",
    "    \n",
    "    \n",
    "    for t in range(0, max_iter):\n",
    "        obj_val = obj(w_pg[alpha])\n",
    "        obj_pg[alpha].append(obj_val.item())\n",
    "        \n",
    "        ## fill in your code\n",
    "        ## be sure to include your stopping condition\n",
    "        grad_fk = f_prime(X, w_pg[alpha], y)\n",
    "        wk_grad = w_pg[alpha] - alpha * grad_fk\n",
    "        prx = g_prox(wk_grad, alpha)\n",
    "        w_pg[alpha] = prx\n",
    "        \n",
    "        sign = np.zeros(shape=(len(prx), 1))\n",
    "        for elem in range(len(prx)):\n",
    "            if prx[elem] > 0:\n",
    "                sign[elem] = 1\n",
    "            elif prx[elem] < 0:\n",
    "                sign[elem] = -1\n",
    "        if np.add(grad_fk, lamda * sign).all() < tol:\n",
    "            print(\"Achieved relative tolerance at iteration %s\" % t)\n",
    "            break\n",
    "\n",
    "        if (t%10==0):\n",
    "            print('iter= {},\\tobjective= {:3f}'.format(t, obj_val.item()))"
   ]
  },
  {
   "cell_type": "code",
   "execution_count": 25,
   "metadata": {},
   "outputs": [
    {
     "data": {
      "text/plain": [
       "Text(0, 0.5, 'Objective error')"
      ]
     },
     "execution_count": 25,
     "metadata": {},
     "output_type": "execute_result"
    },
    {
     "data": {
      "image/png": "[encoded data removed]",
      "text/plain": [
       "<Figure size 648x432 with 1 Axes>"
      ]
     },
     "metadata": {
      "needs_background": "light"
     },
     "output_type": "display_data"
    }
   ],
   "source": [
    "## Plot objective error vs. iteration (log scale)\n",
    "\n",
    "fig, ax = plt.subplots(figsize = (9, 6))\n",
    "\n",
    "for alpha in alpha_array:\n",
    "    plt.semilogy(np.array(obj_pg[alpha])-opt,  linewidth = 2, label = 'alpha: '+'{:.2e}'.format(alpha) )\n",
    "plt.legend(prop={'size':12})\n",
    "plt.xlabel('Iteration')\n",
    "plt.ylabel('Objective error')"
   ]
  },
  {
   "cell_type": "markdown",
   "metadata": {},
   "source": [
    "From this plot, we can see as alpha remains at a very small value, the algorithm converges slowly and the objective error can hardly decrease as the iteration number increases. When alpha/step size becomes larger, the error decreases faster or the algorithm converges faster as iteration number increases. However, if we have too large a step size, i.e. in this case when alpha=0.01, the algorithm diverges."
   ]
  },
  {
   "cell_type": "markdown",
   "metadata": {},
   "source": [
    "## Visualize Coefficients"
   ]
  },
  {
   "cell_type": "markdown",
   "metadata": {},
   "source": [
    "pick the coefficient corresponding to alpha value with the minimum objective function value"
   ]
  },
  {
   "cell_type": "code",
   "execution_count": 34,
   "metadata": {},
   "outputs": [],
   "source": [
    "min_obj= np.inf\n",
    "min_alpha = None"
   ]
  },
  {
   "cell_type": "code",
   "execution_count": 35,
   "metadata": {},
   "outputs": [],
   "source": [
    "for alpha in alpha_array:\n",
    "    if obj_pg[alpha][-1] < min_obj:\n",
    "        min_alpha = alpha\n",
    "        min_obj = obj_pg[alpha][-1]"
   ]
  },
  {
   "cell_type": "code",
   "execution_count": 36,
   "metadata": {},
   "outputs": [
    {
     "data": {
      "image/png": "[encoded data removed]",
      "text/plain": [
       "<Figure size 720x360 with 1 Axes>"
      ]
     },
     "metadata": {
      "needs_background": "light"
     },
     "output_type": "display_data"
    }
   ],
   "source": [
    "plt.figure(figsize = (10, 5))\n",
    "\n",
    "ax = plt.subplot(111)\n",
    "\n",
    "x = np.arange(1, dim+1)\n",
    "\n",
    "ax.bar(x-0.3, clf.coef_, width=0.2, color='r', align='center', label = 'sklearn')\n",
    "ax.bar(x, np.ravel(np.array(w_pg[min_alpha])), width=0.2, color='g', align='center', label = 'Proximal Descent')\n",
    "ax.bar(x+0.3, np.ravel(np.array(w)), width=0.2, color='b', align='center', label = 'Ground Truth')\n",
    "\n",
    "plt.legend()\n",
    "\n",
    "plt.show()"
   ]
  },
  {
   "cell_type": "markdown",
   "metadata": {},
   "source": [
    "This plot shows the comparison of coefficients from 3 different methods. Proximal descent result of the smallest obj value and sklearn both give close result to the ground truth. Notably, because we stop the proximal descent algorithm when the subgradient is close to 0 within an 1% error, the minimal objective value here corresponds to the best estimated weight."
   ]
  }
 ],
 "metadata": {
  "kernelspec": {
   "display_name": "Python 3",
   "language": "python",
   "name": "python3"
  },
  "language_info": {
   "codemirror_mode": {
    "name": "ipython",
    "version": 3
   },
   "file_extension": ".py",
   "mimetype": "text/x-python",
   "name": "python",
   "nbconvert_exporter": "python",
   "pygments_lexer": "ipython3",
   "version": "3.8.3"
  }
 },
 "nbformat": 4,
 "nbformat_minor": 2
}
